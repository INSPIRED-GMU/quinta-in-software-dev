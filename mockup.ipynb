{
 "cells": [
  {
   "cell_type": "markdown",
   "id": "aee3d2e3",
   "metadata": {},
   "source": [
    "You are using a workflow support tool to analyze your data science processes through the lens of intersectionality. Think hard about your answers here. We do not assume that you have malicious intent. You are just here to reflect on implicit biases creeping into your process as a result of you and your data being in the world in all its complexity and inequality."
   ]
  },
  {
   "cell_type": "markdown",
   "id": "bed90219",
   "metadata": {},
   "source": [
    "# Design"
   ]
  },
  {
   "cell_type": "markdown",
   "id": "0e025b68",
   "metadata": {},
   "source": [
    "What is your research about?"
   ]
  },
  {
   "cell_type": "markdown",
   "id": "64a9052f",
   "metadata": {},
   "source": []
  },
  {
   "cell_type": "markdown",
   "id": "b16f79bd",
   "metadata": {},
   "source": [
    "What type of pipeline do you expect to use?"
   ]
  },
  {
   "cell_type": "markdown",
   "id": "9ff841a1",
   "metadata": {},
   "source": []
  },
  {
   "cell_type": "markdown",
   "id": "02fd57c6",
   "metadata": {},
   "source": [
    "## Reflection"
   ]
  },
  {
   "cell_type": "markdown",
   "id": "68c4a505",
   "metadata": {},
   "source": [
    "What is the social and historical context of the inequality of social issues your work might affect?"
   ]
  },
  {
   "cell_type": "markdown",
   "id": "a1860ba4",
   "metadata": {},
   "source": []
  },
  {
   "cell_type": "markdown",
   "id": "d62a28da",
   "metadata": {},
   "source": [
    "What are you planning to do to make sure you have inclusive data?"
   ]
  },
  {
   "cell_type": "markdown",
   "id": "0156914c",
   "metadata": {},
   "source": []
  },
  {
   "cell_type": "markdown",
   "id": "be503818",
   "metadata": {},
   "source": [
    "- Why are you doing this research?\n",
    "- How do you personally benefit from doing this research?"
   ]
  },
  {
   "cell_type": "markdown",
   "id": "c9f189e8",
   "metadata": {},
   "source": []
  },
  {
   "cell_type": "markdown",
   "id": "c996c714",
   "metadata": {},
   "source": [
    "If this research is not done carefully, who might it harm?"
   ]
  },
  {
   "cell_type": "markdown",
   "id": "be9f8b3d",
   "metadata": {},
   "source": []
  },
  {
   "cell_type": "markdown",
   "id": "ba61faf0",
   "metadata": {},
   "source": [
    "# Data collection"
   ]
  },
  {
   "cell_type": "code",
   "execution_count": 2,
   "id": "163e5983",
   "metadata": {},
   "outputs": [],
   "source": [
    "import pandas as pd"
   ]
  },
  {
   "cell_type": "markdown",
   "id": "6f7e8489",
   "metadata": {},
   "source": [
    "## Upload data"
   ]
  },
  {
   "cell_type": "markdown",
   "id": "55b75d58",
   "metadata": {},
   "source": [
    "<label for=\"dataset\">Select data:</label>\n",
    "<input type=\"file\" id=\"dataset\"> "
   ]
  },
  {
   "cell_type": "markdown",
   "id": "39a98412",
   "metadata": {},
   "source": [
    "## Preview data"
   ]
  },
  {
   "cell_type": "code",
   "execution_count": 4,
   "id": "cc07ac01",
   "metadata": {},
   "outputs": [
    {
     "data": {
      "text/html": [
       "<div>\n",
       "<style scoped>\n",
       "    .dataframe tbody tr th:only-of-type {\n",
       "        vertical-align: middle;\n",
       "    }\n",
       "\n",
       "    .dataframe tbody tr th {\n",
       "        vertical-align: top;\n",
       "    }\n",
       "\n",
       "    .dataframe thead th {\n",
       "        text-align: right;\n",
       "    }\n",
       "</style>\n",
       "<table border=\"1\" class=\"dataframe\">\n",
       "  <thead>\n",
       "    <tr style=\"text-align: right;\">\n",
       "      <th></th>\n",
       "      <th>sample_id</th>\n",
       "      <th>race</th>\n",
       "      <th>gender</th>\n",
       "      <th>disabled</th>\n",
       "    </tr>\n",
       "  </thead>\n",
       "  <tbody>\n",
       "    <tr>\n",
       "      <th>0</th>\n",
       "      <td>12008</td>\n",
       "      <td>Black</td>\n",
       "      <td>F</td>\n",
       "      <td>1</td>\n",
       "    </tr>\n",
       "    <tr>\n",
       "      <th>1</th>\n",
       "      <td>11573</td>\n",
       "      <td>White</td>\n",
       "      <td>M</td>\n",
       "      <td>0</td>\n",
       "    </tr>\n",
       "    <tr>\n",
       "      <th>2</th>\n",
       "      <td>11992</td>\n",
       "      <td>American Indian</td>\n",
       "      <td>M</td>\n",
       "      <td>0</td>\n",
       "    </tr>\n",
       "    <tr>\n",
       "      <th>3</th>\n",
       "      <td>12120</td>\n",
       "      <td>Asian</td>\n",
       "      <td>F</td>\n",
       "      <td>0</td>\n",
       "    </tr>\n",
       "    <tr>\n",
       "      <th>4</th>\n",
       "      <td>12435</td>\n",
       "      <td>Pacific Islander</td>\n",
       "      <td>F</td>\n",
       "      <td>1</td>\n",
       "    </tr>\n",
       "  </tbody>\n",
       "</table>\n",
       "</div>"
      ],
      "text/plain": [
       "   sample_id              race gender  disabled\n",
       "0      12008             Black      F         1\n",
       "1      11573             White      M         0\n",
       "2      11992   American Indian      M         0\n",
       "3      12120             Asian      F         0\n",
       "4      12435  Pacific Islander      F         1"
      ]
     },
     "execution_count": 4,
     "metadata": {},
     "output_type": "execute_result"
    }
   ],
   "source": [
    "pd.read_csv('aFile.csv').head()"
   ]
  },
  {
   "cell_type": "markdown",
   "id": "3615bfc4",
   "metadata": {},
   "source": [
    "## Representation analysis"
   ]
  },
  {
   "cell_type": "code",
   "execution_count": 1,
   "id": "ee3fcd40",
   "metadata": {
    "scrolled": true
   },
   "outputs": [
    {
     "data": {
      "image/png": "[encoded data removed]",
      "text/plain": [
       "<Figure size 432x288 with 1 Axes>"
      ]
     },
     "metadata": {},
     "output_type": "display_data"
    }
   ],
   "source": [
    "import data_collection_check"
   ]
  },
  {
   "cell_type": "markdown",
   "id": "152079ff",
   "metadata": {},
   "source": [
    "## Reflection"
   ]
  },
  {
   "cell_type": "markdown",
   "id": "706fd988",
   "metadata": {},
   "source": [
    "What characteristics does the data set include?\n",
    "<form>\n",
    "  <input type=\"checkbox\" id=\"Race\">\n",
    "  <label for=\"Race\"> Race </label><br>\n",
    "  <input type=\"checkbox\" id=\"Ethnicity\">\n",
    "  <label for=\"Ethnicity\"> Ethnicity </label><br>\n",
    "  <input type=\"checkbox\" id=\"Gender\">\n",
    "  <label for=\"Gender\">Gender</label><br>\n",
    "  <input type=\"checkbox\" id=\"Disability\">\n",
    "  <label for=\"Disability\">Disability</label><br>\n",
    "  <input type=\"submit\" value=\"Submit\"><br>\n",
    "</form>"
   ]
  },
  {
   "cell_type": "markdown",
   "id": "c91b8a10",
   "metadata": {},
   "source": [
    "Why does the data set include these characteristics? Why does it not include others? How might this affect your conclusions?"
   ]
  },
  {
   "cell_type": "markdown",
   "id": "65222e76",
   "metadata": {},
   "source": []
  },
  {
   "cell_type": "markdown",
   "id": "0f18a2cd",
   "metadata": {},
   "source": [
    "Think about the intersectional identities that are most represented. Who is being centered in the data? Why? How might this affect your analysis?"
   ]
  },
  {
   "cell_type": "markdown",
   "id": "4f797c76",
   "metadata": {},
   "source": []
  },
  {
   "cell_type": "markdown",
   "id": "11fe0154",
   "metadata": {},
   "source": [
    "Think about the intersectional identities that are least represented or not represented at all. Who is being marginalized in the data? Why? How might this affect your analysis?"
   ]
  },
  {
   "cell_type": "markdown",
   "id": "74c1e6ee",
   "metadata": {},
   "source": []
  },
  {
   "cell_type": "markdown",
   "id": "78e60cd4",
   "metadata": {},
   "source": [
    "# Explore"
   ]
  },
  {
   "cell_type": "markdown",
   "id": "01d9b0a9",
   "metadata": {},
   "source": [
    "Are you using proxies for\n",
    "characteristics you don't have direct data on? How could those proxies be\n",
    "discriminatory against people with some of the intersectional identities in the data?"
   ]
  },
  {
   "cell_type": "markdown",
   "id": "3a7543c9",
   "metadata": {},
   "source": []
  },
  {
   "cell_type": "markdown",
   "id": "5338f932",
   "metadata": {},
   "source": [
    "# Model\n",
    "Model's accuracy for intersectional category 1:\n",
    "Model's accuracy for intersectional category 2:\n",
    "Model's accuracy for intersectional category 3:\n",
    ".\n",
    ".\n",
    ".\n",
    "Model's accuracy for intersectional category n:"
   ]
  },
  {
   "cell_type": "markdown",
   "id": "9ba4df7c",
   "metadata": {},
   "source": [
    "Who is included? Who is excluded? Why? How?"
   ]
  }
 ],
 "metadata": {
  "kernelspec": {
   "display_name": "Python 3",
   "language": "python",
   "name": "python3"
  },
  "language_info": {
   "codemirror_mode": {
    "name": "ipython",
    "version": 3
   },
   "file_extension": ".py",
   "mimetype": "text/x-python",
   "name": "python",
   "nbconvert_exporter": "python",
   "pygments_lexer": "ipython3",
   "version": "3.9.1"
  }
 },
 "nbformat": 4,
 "nbformat_minor": 5
}
